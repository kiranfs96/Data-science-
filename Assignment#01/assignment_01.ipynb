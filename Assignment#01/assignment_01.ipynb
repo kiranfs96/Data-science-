{
  "nbformat": 4,
  "nbformat_minor": 0,
  "metadata": {
    "colab": {
      "name": "assignment#01.ipynb",
      "provenance": []
    },
    "kernelspec": {
      "name": "python3",
      "display_name": "Python 3"
    },
    "language_info": {
      "name": "python"
    }
  },
  "cells": [
    {
      "cell_type": "markdown",
      "source": [
        "# **Q1:**"
      ],
      "metadata": {
        "id": "PAAY4C0y_QET"
      }
    },
    {
      "cell_type": "code",
      "execution_count": null,
      "metadata": {
        "colab": {
          "base_uri": "https://localhost:8080/"
        },
        "id": "WW69Ogh_R21g",
        "outputId": "bb029faf-6a75-450c-b520-95efaa0dbf31"
      },
      "outputs": [
        {
          "output_type": "stream",
          "name": "stdout",
          "text": [
            "Twinkle, twinkle, little star, \n",
            "\tHow I wonder what you are! \n",
            "\t\tUp above the world so high, \n",
            "\t\tLike a diamond in the sky. \n",
            "Twinkle, twinkle, little star, \n",
            "\tHow I wonder what you are!\n"
          ]
        }
      ],
      "source": [
        "print(\"Twinkle, twinkle, little star, \\n\\tHow I wonder what you are! \\n\\t\\tUp above the world so high, \\n\\t\\tLike a diamond in the sky. \\nTwinkle, twinkle, little star, \\n\\tHow I wonder what you are!\")"
      ]
    },
    {
      "cell_type": "markdown",
      "source": [
        "# **Q2:**"
      ],
      "metadata": {
        "id": "_NiXcm-M_Y5S"
      }
    },
    {
      "cell_type": "code",
      "source": [
        "import sys\n",
        "print(\"Python version\")\n",
        "print (sys.version)\n",
        "print(\"Version info.\")\n",
        "print (sys.version_info)"
      ],
      "metadata": {
        "colab": {
          "base_uri": "https://localhost:8080/"
        },
        "id": "n-FogJVkSGvc",
        "outputId": "a9c0590a-2d8c-4389-a422-0fab274cd69f"
      },
      "execution_count": null,
      "outputs": [
        {
          "output_type": "stream",
          "name": "stdout",
          "text": [
            "Python version\n",
            "3.7.12 (default, Sep 10 2021, 00:21:48) \n",
            "[GCC 7.5.0]\n",
            "Version info.\n",
            "sys.version_info(major=3, minor=7, micro=12, releaselevel='final', serial=0)\n"
          ]
        }
      ]
    },
    {
      "cell_type": "markdown",
      "source": [
        ""
      ],
      "metadata": {
        "id": "3tQE_EY7_d7_"
      }
    },
    {
      "cell_type": "markdown",
      "source": [
        "# **Q3:**"
      ],
      "metadata": {
        "id": "UsaG7cY4_nb3"
      }
    },
    {
      "cell_type": "code",
      "source": [
        "from datetime import datetime\n",
        "now = datetime.now() \n",
        "print(\"now =\", now)\n",
        "dt_string = now.strftime(\"%d/%m/%Y %H:%M:%S\")\n",
        "print(\"date and time =\", dt_string)"
      ],
      "metadata": {
        "colab": {
          "base_uri": "https://localhost:8080/"
        },
        "id": "DLBd4H-_W2GW",
        "outputId": "c3806021-c8d7-4994-ab4d-395d2ee44f9c"
      },
      "execution_count": null,
      "outputs": [
        {
          "output_type": "stream",
          "name": "stdout",
          "text": [
            "now = 2021-12-31 16:39:35.648523\n",
            "date and time = 31/12/2021 16:39:35\n"
          ]
        }
      ]
    },
    {
      "cell_type": "markdown",
      "source": [
        "# **Q4:**"
      ],
      "metadata": {
        "id": "K8tdj__e_s-4"
      }
    },
    {
      "cell_type": "code",
      "source": [
        "from math import pi\n",
        "r = float(input (\"Input the radius of the circle : \"))\n",
        "print (\"The area of the circle with radius \" + str(r) + \" is: \" + str(pi * r**2))\n"
      ],
      "metadata": {
        "colab": {
          "base_uri": "https://localhost:8080/"
        },
        "id": "Iy2_4utrYzGI",
        "outputId": "2b60a722-9205-47de-89bf-9d669e3031b7"
      },
      "execution_count": null,
      "outputs": [
        {
          "output_type": "stream",
          "name": "stdout",
          "text": [
            "Input the radius of the circle : 3\n",
            "The area of the circle with radius 3.0 is: 28.274333882308138\n"
          ]
        }
      ]
    },
    {
      "cell_type": "markdown",
      "source": [
        "# **Q5:**"
      ],
      "metadata": {
        "id": "SgihhCcf_w1k"
      }
    },
    {
      "cell_type": "code",
      "source": [
        "firstname = input(\"Input your First Name : \")\n",
        "lastname = input(\"Input your Last Name : \")\n",
        "print (\"Hello  \" + lastname + \" \" + firstname)"
      ],
      "metadata": {
        "colab": {
          "base_uri": "https://localhost:8080/"
        },
        "id": "fW8z7ObpZ4lp",
        "outputId": "80b593ae-2265-4cb9-ed9c-2f10f79acea0"
      },
      "execution_count": null,
      "outputs": [
        {
          "output_type": "stream",
          "name": "stdout",
          "text": [
            "Input your First Name : Kiran Falak\n",
            "Input your Last Name : Sher\n",
            "Hello  Sher Kiran Falak\n"
          ]
        }
      ]
    },
    {
      "cell_type": "markdown",
      "source": [
        "# **Q6:**"
      ],
      "metadata": {
        "id": "XvQabvi0_0RE"
      }
    },
    {
      "cell_type": "code",
      "source": [
        "\n",
        "num1 = input('Enter first number: ')\n",
        "num2 = input('Enter second number: ')\n",
        "sum = float(num1) + float(num2)\n",
        "print('The sum of {0} and {1} is {2}'.format(num1, num2, sum))"
      ],
      "metadata": {
        "colab": {
          "base_uri": "https://localhost:8080/"
        },
        "id": "KRytbLJAbF2D",
        "outputId": "b535adc3-8196-4c73-b230-cd1446d4a92b"
      },
      "execution_count": null,
      "outputs": [
        {
          "output_type": "stream",
          "name": "stdout",
          "text": [
            "Enter first number: 3\n",
            "Enter second number: 5\n",
            "The sum of 3 and 5 is 8.0\n"
          ]
        }
      ]
    }
  ]
}